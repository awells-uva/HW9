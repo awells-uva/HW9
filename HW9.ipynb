{
 "cells": [
  {
   "cell_type": "markdown",
   "metadata": {},
   "source": [
    "Akeem Wells: ajw3rg"
   ]
  },
  {
   "cell_type": "markdown",
   "metadata": {},
   "source": [
    "1. Print your name on terminal."
   ]
  },
  {
   "cell_type": "code",
   "execution_count": 1,
   "metadata": {},
   "outputs": [
    {
     "name": "stdout",
     "output_type": "stream",
     "text": [
      "Hello my Name is: Akeem J Wells\n",
      "Hello my Name is: Akeem Wells\n",
      "/Users/awells/UVA/CS/HW9\n"
     ]
    }
   ],
   "source": [
    "### unix ###\n",
    "!echo \"Hello my Name is: Akeem J Wells\"\n",
    "\n",
    "### python + unix ###\n",
    "myname='Akeem Wells'\n",
    "!echo \"Hello my Name is: {myname}\"\n"
   ]
  },
  {
   "cell_type": "markdown",
   "metadata": {},
   "source": [
    "2. print your working directory."
   ]
  },
  {
   "cell_type": "code",
   "execution_count": 2,
   "metadata": {},
   "outputs": [
    {
     "name": "stdout",
     "output_type": "stream",
     "text": [
      "/Users/awells/UVA/CS/HW9\n",
      "/Users/awells/UVA/CS/HW9\n"
     ]
    }
   ],
   "source": [
    "### unix ###\n",
    "!pwd\n",
    "\n",
    "### python + unix ###\n",
    "import os\n",
    "cwd = os.getcwd()\n",
    "!echo {cwd}\n"
   ]
  },
  {
   "cell_type": "markdown",
   "metadata": {},
   "source": [
    "3. Set your working dir to your home dir with three different commands."
   ]
  },
  {
   "cell_type": "code",
   "execution_count": 3,
   "metadata": {},
   "outputs": [
    {
     "name": "stdout",
     "output_type": "stream",
     "text": [
      "1\n",
      "/Users/awells\n",
      "2\n",
      "/Users/awells\n",
      "3\n",
      "/Users/awells\n",
      "4\n",
      "/Users/awells\n",
      "/Users/awells/UVA/CS/HW9\n"
     ]
    }
   ],
   "source": [
    "import os\n",
    "!echo \"1\"\n",
    "%cd \n",
    "\n",
    "!echo \"2\"\n",
    "%cd ~\n",
    "\n",
    "!echo \"3\"\n",
    "%cd {os.getenv(\"HOME\")}\n",
    "\n",
    "!echo \"4\"\n",
    "%cd {os.path.expanduser(\"~\")} \n",
    "\n"
   ]
  },
  {
   "cell_type": "markdown",
   "metadata": {},
   "source": [
    "4. change your directory to the directory of your Jupyter notebook."
   ]
  },
  {
   "cell_type": "code",
   "execution_count": 4,
   "metadata": {},
   "outputs": [
    {
     "name": "stdout",
     "output_type": "stream",
     "text": [
      "/Users/awells/UVA/CS/HW9\n"
     ]
    }
   ],
   "source": [
    "%cd /Users/awells/UVA/CS/HW9"
   ]
  },
  {
   "cell_type": "markdown",
   "metadata": {},
   "source": [
    "5. Use `touch` to make a txt file and write `hello world` in that file using output redirection: `>`. Append, your name by `>>`."
   ]
  },
  {
   "cell_type": "code",
   "execution_count": 5,
   "metadata": {},
   "outputs": [
    {
     "name": "stdout",
     "output_type": "stream",
     "text": [
      "hello world\n",
      "Akeem Wells\n"
     ]
    }
   ],
   "source": [
    "!touch helloworld.txt\n",
    "!echo \"hello world\" > helloworld.txt\n",
    "name = \"Akeem Wells\"\n",
    "!echo {name} >> helloworld.txt"
   ]
  },
  {
   "cell_type": "markdown",
   "metadata": {},
   "source": [
    "6. show the contents of the file on the screen (use the address of the file  "
   ]
  },
  {
   "cell_type": "code",
   "execution_count": 6,
   "metadata": {},
   "outputs": [
    {
     "name": "stdout",
     "output_type": "stream",
     "text": [
      "-rw-r--r--  1 awells  nraocv    24B Apr  4 11:54 /Users/awells/UVA/CS/HW9/helloworld.txt\n",
      "hello world\n",
      "Akeem Wells\n"
     ]
    }
   ],
   "source": [
    "!ls -alh /Users/awells/UVA/CS/HW9/helloworld.txt\n",
    "!cat /Users/awells/UVA/CS/HW9/helloworld.txt"
   ]
  },
  {
   "cell_type": "markdown",
   "metadata": {},
   "source": [
    "7. apply commands `wc` and `cat` on your txt file and explain what they do (if your txt file is big use `less` instead of `cat`)."
   ]
  },
  {
   "cell_type": "code",
   "execution_count": 7,
   "metadata": {},
   "outputs": [
    {
     "name": "stdout",
     "output_type": "stream",
     "text": [
      "       2       4      24 /Users/awells/UVA/CS/HW9/helloworld.txt\n",
      "hello world\n",
      "Akeem Wells\n",
      "\n",
      "WC(1)                     BSD General Commands Manual                    WC(1)\n",
      "\n",
      "NAME\n",
      "     wc -- word, line, character, and byte count\n",
      "\n",
      "SYNOPSIS\n",
      "     wc [-clmw] [file ...]\n",
      "\n",
      "DESCRIPTION\n",
      "     The wc utility displays the number of lines, words, and bytes contained\n",
      "     in each input file, or standard input (if no file is specified) to the\n",
      "     standard output.  A line is defined as a string of characters delimited\n",
      "     by a <newline> character.  Characters beyond the final <newline> charac-\n",
      "     ter will not be included in the line count.\n",
      "\n",
      "     A word is defined as a string of characters delimited by white space\n",
      "     characters.  White space characters are the set of characters for which\n",
      "     the iswspace(3) function returns true.  If more than one input file is\n",
      "     specified, a line of cumulative counts for all the files is displayed on\n",
      "     a separate line after the output for the last file.\n",
      "\n",
      "     The following options are available:\n",
      "\n",
      "     -c      The number of bytes in each input file is written to the standard\n",
      "             output.  This will cancel out any prior usage of the -m option.\n",
      "\n",
      "     -l      The number of lines in each input file is written to the standard\n",
      "             output.\n",
      "\n",
      "     -m      The number of characters in each input file is written to the\n",
      "             standard output.  If the current locale does not support multi-\n",
      "             byte characters, this is equivalent to the -c option.  This will\n",
      "             cancel out any prior usage of the -c option.\n",
      "\n",
      "     -w      The number of words in each input file is written to the standard\n",
      "             output.\n",
      "\n",
      "     When an option is specified, wc only reports the information requested by\n",
      "     that option.  The order of output always takes the form of line, word,\n",
      "     byte, and file name.  The default action is equivalent to specifying the\n",
      "     -c, -l and -w options.\n",
      "\n",
      "     If no files are specified, the standard input is used and no file name is\n",
      "     displayed.  The prompt will accept input until receiving EOF, or [^D] in\n",
      "     most environments.\n",
      "\n",
      "ENVIRONMENT\n",
      "     The LANG, LC_ALL and LC_CTYPE environment variables affect the execution\n",
      "     of wc as described in environ(7).\n",
      "\n",
      "EXIT STATUS\n",
      "     The wc utility exits 0 on success, and >0 if an error occurs.\n",
      "\n",
      "EXAMPLES\n",
      "     Count the number of characters, words and lines in each of the files\n",
      "     report1 and report2 as well as the totals for both:\n",
      "\n",
      "           wc -mlw report1 report2\n",
      "\n",
      "COMPATIBILITY\n",
      "     Historically, the wc utility was documented to define a word as a ``maxi-\n",
      "     mal string of characters delimited by <space>, <tab> or <newline> charac-\n",
      "     ters''.  The implementation, however, did not handle non-printing charac-\n",
      "     ters correctly so that ``  ^D^E  '' counted as 6 spaces, while\n",
      "     ``foo^D^Ebar'' counted as 8 characters.  4BSD systems after 4.3BSD modi-\n",
      "     fied the implementation to be consistent with the documentation.  This\n",
      "     implementation defines a ``word'' in terms of the iswspace(3) function,\n",
      "     as required by IEEE Std 1003.2 (``POSIX.2'').\n",
      "\n",
      "SEE ALSO\n",
      "     iswspace(3)\n",
      "\n",
      "STANDARDS\n",
      "     The wc utility conforms to IEEE Std 1003.1-2001 (``POSIX.1'').\n",
      "\n",
      "HISTORY\n",
      "     A wc command appeared in Version 1 AT&T UNIX.\n",
      "\n",
      "BSD                            February 23, 2005                           BSD\n",
      "\n",
      "CAT(1)                    BSD General Commands Manual                   CAT(1)\n",
      "\n",
      "NAME\n",
      "     cat -- concatenate and print files\n",
      "\n",
      "SYNOPSIS\n",
      "     cat [-benstuv] [file ...]\n",
      "\n",
      "DESCRIPTION\n",
      "     The cat utility reads files sequentially, writing them to the standard\n",
      "     output.  The file operands are processed in command-line order.  If file\n",
      "     is a single dash (`-') or absent, cat reads from the standard input.  If\n",
      "     file is a UNIX domain socket, cat connects to it and then reads it until\n",
      "     EOF.  This complements the UNIX domain binding capability available in\n",
      "     inetd(8).\n",
      "\n",
      "     The options are as follows:\n",
      "\n",
      "     -b      Number the non-blank output lines, starting at 1.\n",
      "\n",
      "     -e      Display non-printing characters (see the -v option), and display\n",
      "             a dollar sign (`$') at the end of each line.\n",
      "\n",
      "     -n      Number the output lines, starting at 1.\n",
      "\n",
      "     -s      Squeeze multiple adjacent empty lines, causing the output to be\n",
      "             single spaced.\n",
      "\n",
      "     -t      Display non-printing characters (see the -v option), and display\n",
      "             tab characters as `^I'.\n",
      "\n",
      "     -u      Disable output buffering.\n",
      "\n",
      "     -v      Display non-printing characters so they are visible.  Control\n",
      "             characters print as `^X' for control-X; the delete character\n",
      "             (octal 0177) prints as `^?'.  Non-ASCII characters (with the high\n",
      "             bit set) are printed as `M-' (for meta) followed by the character\n",
      "             for the low 7 bits.\n",
      "\n",
      "EXIT STATUS\n",
      "     The cat utility exits 0 on success, and >0 if an error occurs.\n",
      "\n",
      "EXAMPLES\n",
      "     The command:\n",
      "\n",
      "           cat file1\n",
      "\n",
      "     will print the contents of file1 to the standard output.\n",
      "\n",
      "     The command:\n",
      "\n",
      "           cat file1 file2 > file3\n",
      "\n",
      "     will sequentially print the contents of file1 and file2 to the file\n",
      "     file3, truncating file3 if it already exists.  See the manual page for\n",
      "     your shell (i.e., sh(1)) for more information on redirection.\n",
      "\n",
      "     The command:\n",
      "\n",
      "           cat file1 - file2 - file3\n",
      "\n",
      "     will print the contents of file1, print data it receives from the stan-\n",
      "     dard input until it receives an EOF (`^D') character, print the contents\n",
      "     of file2, read and output contents of the standard input again, then\n",
      "     finally output the contents of file3.  Note that if the standard input\n",
      "     referred to a file, the second dash on the command-line would have no\n",
      "     effect, since the entire contents of the file would have already been\n",
      "     read and printed by cat when it encountered the first `-' operand.\n",
      "\n",
      "SEE ALSO\n",
      "     head(1), more(1), pr(1), sh(1), tail(1), vis(1), zcat(1), setbuf(3)\n",
      "\n",
      "     Rob Pike, \"UNIX Style, or cat -v Considered Harmful\", USENIX Summer\n",
      "     Conference Proceedings, 1983.\n",
      "\n",
      "STANDARDS\n",
      "     The cat utility is compliant with the IEEE Std 1003.2-1992 (``POSIX.2'')\n",
      "     specification.\n",
      "\n",
      "     The flags [-benstv] are extensions to the specification.\n",
      "\n",
      "HISTORY\n",
      "     A cat utility appeared in Version 1 AT&T UNIX.  Dennis Ritchie designed\n",
      "     and wrote the first man page.  It appears to have been cat(1).\n",
      "\n",
      "BUGS\n",
      "     Because of the shell language mechanism used to perform output redirect-\n",
      "     ion, the command ``cat file1 file2 > file1'' will cause the original data\n",
      "     in file1 to be destroyed!\n",
      "\n",
      "     The cat utility does not recognize multibyte characters when the -t or -v\n",
      "     option is in effect.\n",
      "\n",
      "BSD                             March 21, 2004                             BSD\n"
     ]
    }
   ],
   "source": [
    "!wc /Users/awells/UVA/CS/HW9/helloworld.txt\n",
    "!cat /Users/awells/UVA/CS/HW9/helloworld.txt\n",
    "!man wc\n",
    "# wc: wc -- word, line, character, and byte count\n",
    "# The wc utility displays the number of lines, words, and bytes contained\n",
    "#     in each input file, or standard input (if no file is specified) to the\n",
    "#     standard output.  A line is defined as a string of characters delimited\n",
    "#     by a <newline> character.\n",
    "!man cat\n",
    "# cat -- concatenate and print files\n",
    "# The cat utility reads files sequentially, writing them to the standard\n",
    "#     output.  The file operands are processed in command-line order."
   ]
  },
  {
   "cell_type": "markdown",
   "metadata": {},
   "source": [
    "8. use `curl` to download a dataset from the web.\n",
    "make a new folder inside your current directory and cd in that directory and move the downloaded file to this new directory."
   ]
  },
  {
   "cell_type": "code",
   "execution_count": 8,
   "metadata": {},
   "outputs": [
    {
     "name": "stdout",
     "output_type": "stream",
     "text": [
      "  % Total    % Received % Xferd  Average Speed   Time    Time     Time  Current\n",
      "                                 Dload  Upload   Total   Spent    Left  Speed\n",
      "100  363k  100  363k    0     0  1342k      0 --:--:-- --:--:-- --:--:-- 1345k\n",
      "mkdir: approval_data: File exists\n",
      "/Users/awells/UVA/CS/HW9/approval_data\n",
      "approval_topline.csv\n"
     ]
    }
   ],
   "source": [
    "!curl -L -O https://projects.fivethirtyeight.com/trump-approval-data/approval_topline.csv\n",
    "!mkdir approval_data\n",
    "%cd approval_data\n",
    "!mv ../approval_topline.csv .\n",
    "!ls"
   ]
  },
  {
   "cell_type": "markdown",
   "metadata": {},
   "source": [
    "9. Apply `head -n 5 {}` to a print the first 5 lines of your file (`tail` is similar). "
   ]
  },
  {
   "cell_type": "code",
   "execution_count": 9,
   "metadata": {},
   "outputs": [
    {
     "name": "stdout",
     "output_type": "stream",
     "text": [
      "president,subgroup,modeldate,approve_estimate,approve_hi,approve_lo,disapprove_estimate,disapprove_hi,disapprove_lo,timestamp\n",
      "Donald Trump,Voters,4/4/2020,45.701958,49.852912,41.551003,50.797167,55.278331,46.316003,07:32:47  4 Apr 2020\n",
      "Donald Trump,Adults,4/4/2020,46.012938,50.582702,41.443175,49.088854,54.335945,43.841762,07:31:21  4 Apr 2020\n",
      "Donald Trump,All polls,4/4/2020,45.784796,50.034617,41.534976,49.910053,54.749417,45.070689,07:30:25  4 Apr 2020\n",
      "Donald Trump,Adults,4/3/2020,46.012938,50.58268,41.443196,49.088854,54.335937,43.84177,09:43:23  3 Apr 2020\n"
     ]
    }
   ],
   "source": [
    "!head -n 5 /Users/awells/UVA/CS/HW9/approval_data/approval_topline.csv"
   ]
  },
  {
   "cell_type": "markdown",
   "metadata": {},
   "source": [
    "10. Since you know how to use git; write a bash command where you commit the changes in your code with a comment and then push it to a remote Github repository."
   ]
  },
  {
   "cell_type": "code",
   "execution_count": 10,
   "metadata": {},
   "outputs": [
    {
     "name": "stdout",
     "output_type": "stream",
     "text": [
      "/Users/awells/UVA/CS/HW9\n",
      "/Users/awells/UVA/CS/HW9/Q10_git\n",
      "Cloning into 'HW9'...\n",
      "remote: Enumerating objects: 30, done.\u001b[K\n",
      "remote: Counting objects: 100% (30/30), done.\u001b[K\n",
      "remote: Compressing objects: 100% (20/20), done.\u001b[K\n",
      "remote: Total 30 (delta 7), reused 26 (delta 6), pack-reused 0\u001b[K\n",
      "Unpacking objects: 100% (30/30), done.\n",
      "/Users/awells/UVA/CS/HW9/Q10_git/HW9\n",
      "[master 4728045] Adding Git Changes\n",
      " 1 file changed, 34 insertions(+), 27 deletions(-)\n",
      "Enumerating objects: 5, done.\n",
      "Counting objects: 100% (5/5), done.\n",
      "Delta compression using up to 4 threads\n",
      "Compressing objects: 100% (3/3), done.\n",
      "Writing objects: 100% (3/3), 875 bytes | 875.00 KiB/s, done.\n",
      "Total 3 (delta 1), reused 0 (delta 0)\n",
      "remote: Resolving deltas: 100% (1/1), completed with 1 local object.\u001b[K\n",
      "To https://github.com/awells-uva/HW9.git\n",
      "   1066e5e..4728045  master -> master\n"
     ]
    }
   ],
   "source": [
    "%cd /Users/awells/UVA/CS/HW9/\n",
    "!mkdir Q10_git\n",
    "%cd Q10_git\n",
    "!git clone https://github.com/awells-uva/HW9.git\n",
    "%cd HW9\n",
    "!git config user.name \"AKEEM WELLS\"\n",
    "!git config user.email \"ajw3rg@virginia.edu\"\n",
    "!cp /Users/awells/UVA/CS/HW9/HW9.ipynb /Users/awells/UVA/CS/HW9/Q10_git/HW9/HW9.ipynb\n",
    "!git add -A\n",
    "!git commit -m \"Adding Git Changes\"\n",
    "!git push origin master\n",
    "!rm -rf /Users/awells/UVA/CS/HW9/Q10_git/"
   ]
  }
 ],
 "metadata": {
  "kernelspec": {
   "display_name": "Python 3",
   "language": "python",
   "name": "python3"
  },
  "language_info": {
   "codemirror_mode": {
    "name": "ipython",
    "version": 3
   },
   "file_extension": ".py",
   "mimetype": "text/x-python",
   "name": "python",
   "nbconvert_exporter": "python",
   "pygments_lexer": "ipython3",
   "version": "3.5.6"
  }
 },
 "nbformat": 4,
 "nbformat_minor": 4
}
