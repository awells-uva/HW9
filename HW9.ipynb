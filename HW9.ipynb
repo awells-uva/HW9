{
 "cells": [
  {
   "cell_type": "markdown",
   "metadata": {},
   "source": [
    "Akeem Wells: ajw3rg"
   ]
  },
  {
   "cell_type": "markdown",
   "metadata": {},
   "source": [
    "1. Print your name on terminal."
   ]
  },
  {
   "cell_type": "code",
   "execution_count": null,
   "metadata": {},
   "outputs": [],
   "source": [
    "### unix ###\n",
    "!echo \"Hello my Name is: Akeem J Wells\"\n",
    "\n",
    "### python + unix ###\n",
    "myname='Akeem Wells'\n",
    "!echo \"Hello my Name is: {myname}\"\n",
    "\n",
    "!pwd"
   ]
  },
  {
   "cell_type": "markdown",
   "metadata": {},
   "source": [
    "2. print your working directory."
   ]
  },
  {
   "cell_type": "code",
   "execution_count": null,
   "metadata": {},
   "outputs": [],
   "source": [
    "### unix ###\n",
    "!pwd\n",
    "\n",
    "### python + unix ###\n",
    "import os\n",
    "cwd = os.getcwd()\n",
    "!echo {cwd}\n"
   ]
  },
  {
   "cell_type": "markdown",
   "metadata": {},
   "source": [
    "3. Set your working dir to your home dir with three different commands."
   ]
  },
  {
   "cell_type": "code",
   "execution_count": null,
   "metadata": {},
   "outputs": [],
   "source": [
    "import os\n",
    "!echo \"1\"\n",
    "%cd \n",
    "\n",
    "!echo \"2\"\n",
    "%cd ~\n",
    "\n",
    "!echo \"3\"\n",
    "%cd {os.getenv(\"HOME\")}\n",
    "\n",
    "!echo \"4\"\n",
    "%cd {os.path.expanduser(\"~\")} \n",
    "\n",
    "%cd {cwd}\n"
   ]
  },
  {
   "cell_type": "markdown",
   "metadata": {},
   "source": [
    "4. change your directory to the directory of your Jupyter notebook."
   ]
  },
  {
   "cell_type": "code",
   "execution_count": null,
   "metadata": {},
   "outputs": [],
   "source": [
    "%cd /Users/awells/UVA/CS/HW9"
   ]
  },
  {
   "cell_type": "markdown",
   "metadata": {},
   "source": [
    "5. Use `touch` to make a txt file and write `hello world` in that file using output redirection: `>`. Append, your name by `>>`."
   ]
  },
  {
   "cell_type": "code",
   "execution_count": null,
   "metadata": {},
   "outputs": [],
   "source": [
    "!touch helloworld.txt\n",
    "!echo \"hello world\" > helloworld.txt\n",
    "name = \"Akeem Wells\"\n",
    "!echo {name} >> helloworld.txt\n",
    "!cat helloworld.txt"
   ]
  },
  {
   "cell_type": "markdown",
   "metadata": {},
   "source": [
    "6. show the contents of the file on the screen (use the address of the file  "
   ]
  },
  {
   "cell_type": "code",
   "execution_count": null,
   "metadata": {},
   "outputs": [],
   "source": [
    "!ls -alh /Users/awells/UVA/CS/HW9/helloworld.txt\n",
    "!cat /Users/awells/UVA/CS/HW9/helloworld.txt"
   ]
  },
  {
   "cell_type": "markdown",
   "metadata": {},
   "source": [
    "7. apply commands `wc` and `cat` on your txt file and explain what they do (if your txt file is big use `less` instead of `cat`)."
   ]
  },
  {
   "cell_type": "code",
   "execution_count": 4,
   "metadata": {},
   "outputs": [
    {
     "name": "stdout",
     "output_type": "stream",
     "text": [
      "       2       4      24 /Users/awells/UVA/CS/HW9/helloworld.txt\n",
      "hello world\n",
      "Akeem Wells\n",
      "\n",
      "WC(1)                     BSD General Commands Manual                    WC(1)\n",
      "\n",
      "NAME\n",
      "     wc -- word, line, character, and byte count\n",
      "\n",
      "SYNOPSIS\n",
      "     wc [-clmw] [file ...]\n",
      "\n",
      "DESCRIPTION\n",
      "     The wc utility displays the number of lines, words, and bytes contained\n",
      "     in each input file, or standard input (if no file is specified) to the\n",
      "     standard output.  A line is defined as a string of characters delimited\n",
      "     by a <newline> character.  Characters beyond the final <newline> charac-\n",
      "     ter will not be included in the line count.\n",
      "\n",
      "     A word is defined as a string of characters delimited by white space\n",
      "     characters.  White space characters are the set of characters for which\n",
      "     the iswspace(3) function returns true.  If more than one input file is\n",
      "     specified, a line of cumulative counts for all the files is displayed on\n",
      "     a separate line after the output for the last file.\n",
      "\n",
      "     The following options are available:\n",
      "\n",
      "     -c      The number of bytes in each input file is written to the standard\n",
      "             output.  This will cancel out any prior usage of the -m option.\n",
      "\n",
      "     -l      The number of lines in each input file is written to the standard\n",
      "             output.\n",
      "\n",
      "     -m      The number of characters in each input file is written to the\n",
      "             standard output.  If the current locale does not support multi-\n",
      "             byte characters, this is equivalent to the -c option.  This will\n",
      "             cancel out any prior usage of the -c option.\n",
      "\n",
      "     -w      The number of words in each input file is written to the standard\n",
      "             output.\n",
      "\n",
      "     When an option is specified, wc only reports the information requested by\n",
      "     that option.  The order of output always takes the form of line, word,\n",
      "     byte, and file name.  The default action is equivalent to specifying the\n",
      "     -c, -l and -w options.\n",
      "\n",
      "     If no files are specified, the standard input is used and no file name is\n",
      "     displayed.  The prompt will accept input until receiving EOF, or [^D] in\n",
      "     most environments.\n",
      "\n",
      "ENVIRONMENT\n",
      "     The LANG, LC_ALL and LC_CTYPE environment variables affect the execution\n",
      "     of wc as described in environ(7).\n",
      "\n",
      "EXIT STATUS\n",
      "     The wc utility exits 0 on success, and >0 if an error occurs.\n",
      "\n",
      "EXAMPLES\n",
      "     Count the number of characters, words and lines in each of the files\n",
      "     report1 and report2 as well as the totals for both:\n",
      "\n",
      "           wc -mlw report1 report2\n",
      "\n",
      "COMPATIBILITY\n",
      "     Historically, the wc utility was documented to define a word as a ``maxi-\n",
      "     mal string of characters delimited by <space>, <tab> or <newline> charac-\n",
      "     ters''.  The implementation, however, did not handle non-printing charac-\n",
      "     ters correctly so that ``  ^D^E  '' counted as 6 spaces, while\n",
      "     ``foo^D^Ebar'' counted as 8 characters.  4BSD systems after 4.3BSD modi-\n",
      "     fied the implementation to be consistent with the documentation.  This\n",
      "     implementation defines a ``word'' in terms of the iswspace(3) function,\n",
      "     as required by IEEE Std 1003.2 (``POSIX.2'').\n",
      "\n",
      "SEE ALSO\n",
      "     iswspace(3)\n",
      "\n",
      "STANDARDS\n",
      "     The wc utility conforms to IEEE Std 1003.1-2001 (``POSIX.1'').\n",
      "\n",
      "HISTORY\n",
      "     A wc command appeared in Version 1 AT&T UNIX.\n",
      "\n",
      "BSD                            February 23, 2005                           BSD\n"
     ]
    }
   ],
   "source": [
    "!wc /Users/awells/UVA/CS/HW9/helloworld.txt\n",
    "!cat /Users/awells/UVA/CS/HW9/helloworld.txt\n",
    "!man wc\n",
    "# wc: wc -- word, line, character, and byte count\n",
    "# "
   ]
  },
  {
   "cell_type": "markdown",
   "metadata": {},
   "source": [
    "8. use `curl` to download a dataset from the web.\n",
    "make a new folder inside your current directory and cd in that directory and move the downloaded file to this new directory."
   ]
  },
  {
   "cell_type": "code",
   "execution_count": null,
   "metadata": {},
   "outputs": [],
   "source": []
  },
  {
   "cell_type": "markdown",
   "metadata": {},
   "source": [
    "9. Apply `head -n 5 {}` to a print the first 5 lines of your file (`tail` is similar). "
   ]
  },
  {
   "cell_type": "code",
   "execution_count": null,
   "metadata": {},
   "outputs": [],
   "source": []
  },
  {
   "cell_type": "markdown",
   "metadata": {},
   "source": [
    "10. Since you know how to use git; write a bash command where you commit the changes in your code with a comment and then push it to a remote Github repository."
   ]
  },
  {
   "cell_type": "code",
   "execution_count": 6,
   "metadata": {},
   "outputs": [
    {
     "name": "stdout",
     "output_type": "stream",
     "text": [
      "/Users/awells/UVA/CS/HW9\n",
      "mkdir: Q10_git: File exists\n",
      "/Users/awells/UVA/CS/HW9/Q10_git\n",
      "fatal: destination path 'HW9' already exists and is not an empty directory.\n",
      "\u001b[34mHW9\u001b[m\u001b[m\n",
      "/Users/awells/UVA/CS/HW9/Q10_git/HW9\n",
      "[master 1f7678c] Test\n",
      " Author: Akeem Wells <ajw3rg@virginia.edu>\n",
      " Committer: Akeem Wells <awells@humite.local>\n",
      "Your name and email address were configured automatically based\n",
      "on your username and hostname. Please check that they are accurate.\n",
      "You can suppress this message by setting them explicitly:\n",
      "\n",
      "    git config --global user.name \"Your Name\"\n",
      "    git config --global user.email you@example.com\n",
      "\n",
      "After doing this, you may fix the identity used for this commit with:\n",
      "\n",
      "    git commit --amend --reset-author\n",
      "\n",
      " 1 file changed, 122 insertions(+), 14 deletions(-)\n",
      "Enumerating objects: 5, done.\n",
      "Counting objects: 100% (5/5), done.\n",
      "Delta compression using up to 4 threads\n",
      "Compressing objects: 100% (3/3), done.\n",
      "Writing objects: 100% (3/3), 2.48 KiB | 2.48 MiB/s, done.\n",
      "Total 3 (delta 1), reused 0 (delta 0)\n",
      "remote: Resolving deltas: 100% (1/1), completed with 1 local object.\u001b[K\n",
      "To https://github.com/awells-uva/HW9.git\n",
      "   6dc2b27..1f7678c  master -> master\n"
     ]
    }
   ],
   "source": [
    "%cd /Users/awells/UVA/CS/HW9/\n",
    "!mkdir Q10_git\n",
    "%cd Q10_git\n",
    "!git clone https://github.com/awells-uva/HW9.git\n",
    "!ls\n",
    "%cd HW9\n",
    "!cp /Users/awells/UVA/CS/HW9/HW9.ipynb /Users/awells/UVA/CS/HW9/Q10_git/HW9/HW9.ipynb\n",
    "!git add -A\n",
    "!git commit -m \"Test\" --author=\"Akeem Wells <ajw3rg@virginia.edu>\"\n",
    "!git push origin master"
   ]
  },
  {
   "cell_type": "code",
   "execution_count": null,
   "metadata": {},
   "outputs": [],
   "source": [
    "!rm -rf /Users/awells/UVA/CS/HW9/Q10_git\n"
   ]
  },
  {
   "cell_type": "code",
   "execution_count": null,
   "metadata": {},
   "outputs": [],
   "source": []
  }
 ],
 "metadata": {
  "kernelspec": {
   "display_name": "Python 3",
   "language": "python",
   "name": "python3"
  },
  "language_info": {
   "codemirror_mode": {
    "name": "ipython",
    "version": 3
   },
   "file_extension": ".py",
   "mimetype": "text/x-python",
   "name": "python",
   "nbconvert_exporter": "python",
   "pygments_lexer": "ipython3",
   "version": "3.5.6"
  }
 },
 "nbformat": 4,
 "nbformat_minor": 4
}
