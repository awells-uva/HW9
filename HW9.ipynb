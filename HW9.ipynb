{
 "cells": [
  {
   "cell_type": "markdown",
   "metadata": {},
   "source": [
    "Akeem Wells: ajw3rg"
   ]
  },
  {
   "cell_type": "markdown",
   "metadata": {},
   "source": [
    "1. Print your name on terminal."
   ]
  },
  {
   "cell_type": "code",
   "execution_count": null,
   "metadata": {},
   "outputs": [],
   "source": [
    "### unix ###\n",
    "!echo \"Hello my Name is: Akeem J Wells\"\n",
    "\n",
    "### python + unix ###\n",
    "myname='Akeem Wells'\n",
    "!echo \"Hello my Name is: {myname}\"\n",
    "\n",
    "!pwd"
   ]
  },
  {
   "cell_type": "markdown",
   "metadata": {},
   "source": [
    "2. print your working directory."
   ]
  },
  {
   "cell_type": "code",
   "execution_count": null,
   "metadata": {},
   "outputs": [],
   "source": [
    "### unix ###\n",
    "!pwd\n",
    "\n",
    "### python + unix ###\n",
    "import os\n",
    "cwd = os.getcwd()\n",
    "!echo {cwd}\n"
   ]
  },
  {
   "cell_type": "markdown",
   "metadata": {},
   "source": [
    "3. Set your working dir to your home dir with three different commands."
   ]
  },
  {
   "cell_type": "code",
   "execution_count": null,
   "metadata": {},
   "outputs": [],
   "source": [
    "import os\n",
    "!echo \"1\"\n",
    "%cd \n",
    "\n",
    "!echo \"2\"\n",
    "%cd ~\n",
    "\n",
    "!echo \"3\"\n",
    "%cd {os.getenv(\"HOME\")}\n",
    "\n",
    "!echo \"4\"\n",
    "%cd {os.path.expanduser(\"~\")} \n",
    "\n",
    "%cd {cwd}\n"
   ]
  },
  {
   "cell_type": "markdown",
   "metadata": {},
   "source": [
    "4. change your directory to the directory of your Jupyter notebook."
   ]
  },
  {
   "cell_type": "code",
   "execution_count": null,
   "metadata": {},
   "outputs": [],
   "source": [
    "%cd /Users/awells/UVA/CS/HW9"
   ]
  },
  {
   "cell_type": "markdown",
   "metadata": {},
   "source": [
    "5. Use `touch` to make a txt file and write `hello world` in that file using output redirection: `>`. Append, your name by `>>`."
   ]
  },
  {
   "cell_type": "code",
   "execution_count": null,
   "metadata": {},
   "outputs": [],
   "source": [
    "!touch helloworld.txt\n",
    "!echo \"hello world\" > helloworld.txt\n",
    "name = \"Akeem Wells\"\n",
    "!echo {name} >> helloworld.txt\n",
    "!cat helloworld.txt"
   ]
  },
  {
   "cell_type": "markdown",
   "metadata": {},
   "source": [
    "6. show the contents of the file on the screen (use the address of the file  "
   ]
  },
  {
   "cell_type": "code",
   "execution_count": null,
   "metadata": {},
   "outputs": [],
   "source": [
    "!ls -alh /Users/awells/UVA/CS/HW9/helloworld.txt\n",
    "!cat /Users/awells/UVA/CS/HW9/helloworld.txt"
   ]
  },
  {
   "cell_type": "markdown",
   "metadata": {},
   "source": [
    "7. apply commands `wc` and `cat` on your txt file and explain what they do (if your txt file is big use `less` instead of `cat`)."
   ]
  },
  {
   "cell_type": "code",
   "execution_count": null,
   "metadata": {},
   "outputs": [],
   "source": [
    "!wc /Users/awells/UVA/CS/HW9/helloworld.txt\n",
    "!cat /Users/awells/UVA/CS/HW9/helloworld.txt\n",
    "!man wc\n",
    "# wc: wc -- word, line, character, and byte count\n",
    "# "
   ]
  },
  {
   "cell_type": "markdown",
   "metadata": {},
   "source": [
    "8. use `curl` to download a dataset from the web.\n",
    "make a new folder inside your current directory and cd in that directory and move the downloaded file to this new directory."
   ]
  },
  {
   "cell_type": "code",
   "execution_count": null,
   "metadata": {},
   "outputs": [],
   "source": []
  },
  {
   "cell_type": "markdown",
   "metadata": {},
   "source": [
    "9. Apply `head -n 5 {}` to a print the first 5 lines of your file (`tail` is similar). "
   ]
  },
  {
   "cell_type": "code",
   "execution_count": null,
   "metadata": {},
   "outputs": [],
   "source": []
  },
  {
   "cell_type": "markdown",
   "metadata": {},
   "source": [
    "10. Since you know how to use git; write a bash command where you commit the changes in your code with a comment and then push it to a remote Github repository."
   ]
  },
  {
   "cell_type": "code",
   "execution_count": null,
   "metadata": {},
   "outputs": [],
   "source": [
    "%cd /Users/awells/UVA/CS/HW9/\n",
    "!mkdir Q10_git\n",
    "%cd Q10_git\n",
    "!git clone https://github.com/awells-uva/HW9.git\n",
    "!ls\n",
    "%cd HW9\n",
    "!git config user.name \"AKEEM WELLS\"\n",
    "!git config user.email \"ajw3rg@virginia.edu\"\n",
    "!cp /Users/awells/UVA/CS/HW9/HW9.ipynb /Users/awells/UVA/CS/HW9/Q10_git/HW9/HW9.ipynb\n",
    "!git add -A\n",
    "!git commit -m \"Test\" #--author=\"Akeem Wells <ajw3rg@virginia.edu>\"\n",
    "!git push origin master"
   ]
  },
  {
   "cell_type": "code",
   "execution_count": null,
   "metadata": {},
   "outputs": [],
   "source": [
    "!rm -rf /Users/awells/UVA/CS/HW9/Q10_git\n"
   ]
  },
  {
   "cell_type": "code",
   "execution_count": null,
   "metadata": {},
   "outputs": [],
   "source": []
  }
 ],
 "metadata": {
  "kernelspec": {
   "display_name": "Python 3",
   "language": "python",
   "name": "python3"
  },
  "language_info": {
   "codemirror_mode": {
    "name": "ipython",
    "version": 3
   },
   "file_extension": ".py",
   "mimetype": "text/x-python",
   "name": "python",
   "nbconvert_exporter": "python",
   "pygments_lexer": "ipython3",
   "version": "3.5.6"
  }
 },
 "nbformat": 4,
 "nbformat_minor": 4
}
